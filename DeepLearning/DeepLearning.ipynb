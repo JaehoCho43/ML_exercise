{
 "cells": [
  {
   "cell_type": "code",
   "execution_count": 1,
   "id": "437735d7-1877-4d24-951e-f8b955efec73",
   "metadata": {},
   "outputs": [
    {
     "name": "stderr",
     "output_type": "stream",
     "text": [
      "/home/studio-lab-user/.conda/envs/ML/lib/python3.10/site-packages/tqdm/auto.py:21: TqdmWarning: IProgress not found. Please update jupyter and ipywidgets. See https://ipywidgets.readthedocs.io/en/stable/user_install.html\n",
      "  from .autonotebook import tqdm as notebook_tqdm\n"
     ]
    }
   ],
   "source": [
    "## Import Packages / Setup the matplotlib configuration\n",
    "\n",
    "import numpy as np\n",
    "import pandas as pd\n",
    "import matplotlib.pyplot as plt\n",
    "import torch\n",
    "from torch.utils import tensorboard\n",
    "from torch import optim, nn, utils\n",
    "import pytorch_lightning as pl\n",
    "\n",
    "plt.style.use('ggplot')\n",
    "plt.rcParams['figure.figsize'] = (12, 6)\n",
    "\n",
    "np.random.seed(42)"
   ]
  },
  {
   "cell_type": "markdown",
   "id": "15b1a992-c23b-4386-b3b8-df9d7a91789b",
   "metadata": {},
   "source": [
    "# Linear Regression"
   ]
  },
  {
   "cell_type": "code",
   "execution_count": 2,
   "id": "2b43ce70-8eb6-4f36-aaf6-6f59c8825ae5",
   "metadata": {},
   "outputs": [],
   "source": [
    "class LinearRegression(pl.LightningModule):\n",
    "    \n",
    "    def __init__(self, x_dim, y_dim, lr):\n",
    "        super().__init__()\n",
    "        self.linear = nn.Linear(x_dim, y_dim)\n",
    "        self.lr = lr\n",
    "    \n",
    "    def forward(self, x):\n",
    "        return self.linear(x)\n",
    "    \n",
    "    def training_step(self, batch, batch_idx):\n",
    "        x, y = batch\n",
    "        y_hat = self.forward(x)\n",
    "        loss = nn.functional.mse_loss(y_hat, y)\n",
    "        return loss\n",
    "    \n",
    "    def configure_optimizers(self):\n",
    "        optimizer = torch.optim.SGD(self.parameters(), lr=self.lr)\n",
    "        return optimizer"
   ]
  },
  {
   "cell_type": "code",
   "execution_count": 3,
   "id": "e824acd1-3289-4505-97e7-560636768fca",
   "metadata": {},
   "outputs": [],
   "source": [
    "class LinearRegressionDataModule(pl.LightningDataModule):\n",
    "    def __init__(self, weights, error_size, n_samples_train = 100000, n_samples_test = 50000, batch_size=32):\n",
    "        super().__init__()\n",
    "        x_dim, y_dim = weights.size()\n",
    "        self.x_train = torch.randn(n_samples_train, x_dim)\n",
    "        self.y_train = self.x_train@weights + error_size * torch.randn(n_samples_train, y_dim)\n",
    "        self.x_test = torch.randn(n_samples_test, x_dim)\n",
    "        self.y_test = self.x_test@weights + error_size * torch.randn(n_samples_test, y_dim)\n",
    "        self.batch_size = batch_size\n",
    "\n",
    "    def train_dataloader(self):\n",
    "        dataset = torch.utils.data.TensorDataset(self.x_train, self.y_train)\n",
    "        dataloader = torch.utils.data.DataLoader(dataset, batch_size = self.batch_size, shuffle = True, num_workers = 4)\n",
    "        return dataloader"
   ]
  },
  {
   "cell_type": "code",
   "execution_count": 4,
   "id": "4d543e45-ff00-4e78-9894-eae036141ecc",
   "metadata": {},
   "outputs": [
    {
     "name": "stderr",
     "output_type": "stream",
     "text": [
      "GPU available: False, used: False\n",
      "TPU available: False, using: 0 TPU cores\n",
      "IPU available: False, using: 0 IPUs\n",
      "HPU available: False, using: 0 HPUs\n",
      "Missing logger folder: /home/studio-lab-user/sagemaker-studiolab-notebooks/ML_exercise/DeepLearning/lightning_logs\n",
      "\n",
      "  | Name   | Type   | Params\n",
      "----------------------------------\n",
      "0 | linear | Linear | 8     \n",
      "----------------------------------\n",
      "8         Trainable params\n",
      "0         Non-trainable params\n",
      "8         Total params\n",
      "0.000     Total estimated model params size (MB)\n"
     ]
    },
    {
     "name": "stdout",
     "output_type": "stream",
     "text": [
      "Epoch 0: 100%|██████████| 3125/3125 [00:13<00:00, 226.40it/s, loss=0.0098, v_num=0] "
     ]
    },
    {
     "name": "stderr",
     "output_type": "stream",
     "text": [
      "`Trainer.fit` stopped: `max_epochs=1` reached.\n"
     ]
    },
    {
     "name": "stdout",
     "output_type": "stream",
     "text": [
      "Epoch 0: 100%|██████████| 3125/3125 [00:13<00:00, 226.31it/s, loss=0.0098, v_num=0]\n"
     ]
    }
   ],
   "source": [
    "weights = torch.Tensor([[1,2], [3,4], [5,6]])\n",
    "x_dim, y_dim = weights.size()\n",
    "model = LinearRegression(x_dim, y_dim, lr = 0.1)\n",
    "data_module = LinearRegressionDataModule(weights, error_size = 0.1)\n",
    "trainer = pl.Trainer(max_epochs = 1)\n",
    "trainer.fit(model, datamodule = data_module)"
   ]
  },
  {
   "cell_type": "code",
   "execution_count": 5,
   "id": "bae70035-76e7-4e0f-b609-6ca91fc5baf6",
   "metadata": {},
   "outputs": [
    {
     "data": {
      "text/plain": [
       "OrderedDict([('linear.weight',\n",
       "              tensor([[1.0043, 2.9967, 4.9915],\n",
       "                      [2.0043, 3.9998, 5.9993]])),\n",
       "             ('linear.bias', tensor([-0.0026, -0.0009]))])"
      ]
     },
     "execution_count": 5,
     "metadata": {},
     "output_type": "execute_result"
    }
   ],
   "source": [
    "model.state_dict()"
   ]
  },
  {
   "cell_type": "code",
   "execution_count": null,
   "id": "2fc2a986-19db-4031-b2c8-41144b4d18b7",
   "metadata": {},
   "outputs": [],
   "source": []
  },
  {
   "cell_type": "code",
   "execution_count": null,
   "id": "20c365d5-57c1-4cfe-bb3f-612b9d415496",
   "metadata": {},
   "outputs": [],
   "source": []
  }
 ],
 "metadata": {
  "kernelspec": {
   "display_name": "ML:Python",
   "language": "python",
   "name": "conda-env-ML-py"
  },
  "language_info": {
   "codemirror_mode": {
    "name": "ipython",
    "version": 3
   },
   "file_extension": ".py",
   "mimetype": "text/x-python",
   "name": "python",
   "nbconvert_exporter": "python",
   "pygments_lexer": "ipython3",
   "version": "3.10.9"
  }
 },
 "nbformat": 4,
 "nbformat_minor": 5
}
